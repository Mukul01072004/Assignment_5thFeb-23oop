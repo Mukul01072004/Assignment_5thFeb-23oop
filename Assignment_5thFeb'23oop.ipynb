{
 "cells": [
  {
   "cell_type": "code",
   "execution_count": 5,
   "id": "0c469d9d",
   "metadata": {},
   "outputs": [
    {
     "name": "stdout",
     "output_type": "stream",
     "text": [
      "Toyota Camry from 2020 started!\n"
     ]
    }
   ],
   "source": [
    "# Answer 1:\n",
    "# Class : A class is a blueprint or a blueprint for creating objects. It defines a set of attributes and methods that represent the behavior of the objects created from the class.\n",
    "# Object : # Object: An object is an instance of a class. Objects are the physical or concrete representation of the class.\n",
    "class Car:\n",
    "    def __init__(self, make, model, year):\n",
    "        self.make = make\n",
    "        self.model = model\n",
    "        self.year = year\n",
    "\n",
    "    def start(self):\n",
    "        print(f\"{self.make} {self.model} from {self.year} started!\")\n",
    "\n",
    "my_car = Car(\"Toyota\", \"Camry\", 2020)\n",
    "my_car.start()"
   ]
  },
  {
   "cell_type": "code",
   "execution_count": null,
   "id": "da6f7047",
   "metadata": {},
   "outputs": [],
   "source": [
    "# Answer 2:\n",
    "1. Abstraction\n",
    "2. Encapsulation\n",
    "3. Polymorphism\n",
    "4. Inheritance"
   ]
  },
  {
   "cell_type": "code",
   "execution_count": 6,
   "id": "4426b9d1",
   "metadata": {},
   "outputs": [
    {
     "name": "stdout",
     "output_type": "stream",
     "text": [
      "Rufus says Woof!\n"
     ]
    }
   ],
   "source": [
    "# Answer 3:The __init__ function is a special method in Python that is automatically called when an object is created from a class. It is also known as the constructor method.\n",
    "class Dog:\n",
    "    def __init__(self, name, breed):\n",
    "        self.name = name\n",
    "        self.breed = breed\n",
    "\n",
    "    def bark(self):\n",
    "        print(f\"{self.name} says Woof!\")\n",
    "\n",
    "my_dog = Dog(\"Rufus\", \"Labrador\")\n",
    "my_dog.bark()\n",
    " "
   ]
  },
  {
   "cell_type": "code",
   "execution_count": null,
   "id": "95a88d69",
   "metadata": {},
   "outputs": [],
   "source": [
    "# Answer 4: In object-oriented programming, 'self' is used to refer to the instance of the object that is being operated on"
   ]
  },
  {
   "cell_type": "code",
   "execution_count": 15,
   "id": "15c013a3",
   "metadata": {},
   "outputs": [
    {
     "name": "stdout",
     "output_type": "stream",
     "text": [
      "Woof!\n"
     ]
    }
   ],
   "source": [
    "# Answer 5: Inheritance is a fundamental concept in object-oriented programming that allows you to define a new class that is a modified version of an existing class.\n",
    "# Single Inheritance\n",
    "class Animal:\n",
    "    def __init__(self, name, species):\n",
    "        self.name = name\n",
    "        self.species = species\n",
    "\n",
    "    def make_sound(self):\n",
    "        print(\"Some animal sound\")\n",
    "\n",
    "class Dog(Animal):\n",
    "    def __init__(self, name, breed):\n",
    "        Animal.__init__(self, name, species=\"Dog\")\n",
    "        self.breed = breed\n",
    "\n",
    "    def make_sound(self):\n",
    "        print(\"Woof!\")\n",
    "\n",
    "my_dog = Dog(\"Rufus\", \"Labrador\")\n",
    "my_dog.make_sound()\n"
   ]
  },
  {
   "cell_type": "code",
   "execution_count": 10,
   "id": "c71d99b9",
   "metadata": {},
   "outputs": [
    {
     "name": "stdout",
     "output_type": "stream",
     "text": [
      "30\n",
      "200\n",
      "0.5\n"
     ]
    }
   ],
   "source": [
    "# Multiple Inheritance\n",
    "class Calculation1:  \n",
    "    def Summation(self,a,b):  \n",
    "        return a+b;  \n",
    "class Calculation2:  \n",
    "    def Multiplication(self,a,b):  \n",
    "        return a*b;  \n",
    "class Derived(Calculation1,Calculation2):  \n",
    "    def Divide(self,a,b):  \n",
    "        return a/b;  \n",
    "d = Derived()  \n",
    "print(d.Summation(10,20))  \n",
    "print(d.Multiplication(10,20))  \n",
    "print(d.Divide(10,20))"
   ]
  },
  {
   "cell_type": "code",
   "execution_count": 9,
   "id": "87be53d3",
   "metadata": {},
   "outputs": [
    {
     "name": "stdout",
     "output_type": "stream",
     "text": [
      "dog barking\n",
      "Animal Speaking\n",
      "Eating bread...\n"
     ]
    }
   ],
   "source": [
    "# Multi-Level Inheritance\n",
    "class Animal:  \n",
    "    def speak(self):  \n",
    "        print(\"Animal Speaking\")  \n",
    "#The child class Dog inherits the base class Animal  \n",
    "class Dog(Animal):  \n",
    "    def bark(self):  \n",
    "        print(\"dog barking\")  \n",
    "#The child class Dogchild inherits another child class Dog  \n",
    "class DogChild(Dog):  \n",
    "    def eat(self):  \n",
    "        print(\"Eating bread...\")  \n",
    "d = DogChild()  \n",
    "d.bark()  \n",
    "d.speak()  \n",
    "d.eat()  \n"
   ]
  },
  {
   "cell_type": "code",
   "execution_count": null,
   "id": "01cdef03",
   "metadata": {},
   "outputs": [],
   "source": []
  }
 ],
 "metadata": {
  "kernelspec": {
   "display_name": "Python 3 (ipykernel)",
   "language": "python",
   "name": "python3"
  },
  "language_info": {
   "codemirror_mode": {
    "name": "ipython",
    "version": 3
   },
   "file_extension": ".py",
   "mimetype": "text/x-python",
   "name": "python",
   "nbconvert_exporter": "python",
   "pygments_lexer": "ipython3",
   "version": "3.10.1"
  }
 },
 "nbformat": 4,
 "nbformat_minor": 5
}
